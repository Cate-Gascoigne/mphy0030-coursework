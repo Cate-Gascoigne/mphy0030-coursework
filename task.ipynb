{
 "cells": [
  {
   "cell_type": "code",
   "execution_count": 1,
   "id": "0e275a7d-b6ee-4ee1-b21d-cb44a1643560",
   "metadata": {
    "tags": []
   },
   "outputs": [],
   "source": [
    "import sys\n",
    "import pandas as pd\n",
    "import numpy as np\n",
    "import scipy as sp\n",
    "import matplotlib as mpl\n",
    "import matplotlib.pyplot as plt\n",
    "import skimage as ski\n",
    "import PIL as PIL\n",
    "import time\n",
    "\n",
    "from skimage import measure\n",
    "from mpl_toolkits.mplot3d import Axes3D \n",
    "from PIL import Image\n",
    "\n",
    "np.set_printoptions(threshold = 1000)"
   ]
  },
  {
   "cell_type": "markdown",
   "id": "cf10ba51-2456-4d2f-bcc8-535933279eef",
   "metadata": {},
   "source": [
    "Task 2: Image derivatives with anisotropic voxel dimensions\n",
    "\n",
    "Implement a class Image3D, which should handle 3D medical images with different voxel dimensions, image sizes and data types."
   ]
  },
  {
   "cell_type": "code",
   "execution_count": 6,
   "id": "922c8b5a-e974-483f-8e5c-62982d46d063",
   "metadata": {
    "tags": []
   },
   "outputs": [],
   "source": [
    "def __init__(self, image, vox_x, vox_y, vox_z):\n",
    "    pass"
   ]
  },
  {
   "cell_type": "code",
   "execution_count": null,
   "id": "f79bd069-19b1-4ebd-b783-b109801747a3",
   "metadata": {},
   "outputs": [],
   "source": []
  }
 ],
 "metadata": {
  "kernelspec": {
   "display_name": "Python 3 (ipykernel)",
   "language": "python",
   "name": "python3"
  },
  "language_info": {
   "codemirror_mode": {
    "name": "ipython",
    "version": 3
   },
   "file_extension": ".py",
   "mimetype": "text/x-python",
   "name": "python",
   "nbconvert_exporter": "python",
   "pygments_lexer": "ipython3",
   "version": "3.11.5"
  }
 },
 "nbformat": 4,
 "nbformat_minor": 5
}
