{
 "cells": [
  {
   "cell_type": "code",
   "execution_count": 2,
   "id": "a7dd4a94-633c-4ed4-bf6b-1aebcdb73d34",
   "metadata": {},
   "outputs": [],
   "source": [
    "# script for separable convolution for higher dimensional image\n",
    "\n",
    "import numpy as np\n",
    "\n",
    "\n",
    "# read in image\n",
    "image = image = np.load(r\"image_train00.npy\")\n",
    "\n",
    "\n",
    "# generate a 1-d Gaussian kernel \n",
    "sigma = 3\n",
    "tail = int(sigma*3)\n",
    "kernel = np.exp([-0.5*x**2/sigma**2 for x in range(-tail, tail+1)]).astype(np.float32)\n",
    "kernel = kernel / np.sum(kernel)\n",
    "\n",
    "# separable convolution in each dimension\n",
    "for i in range(image.shape[0]):\n",
    "    for j in range(image.shape[1]):\n",
    "        image[i,j,:] = np.convolve(image[i,j,:],kernel,'same')\n",
    "\n",
    "for i in range(image.shape[0]):\n",
    "    for k in range(image.shape[2]):\n",
    "        image[i,:,k] = np.convolve(image[i,:,k],kernel,'same')\n",
    "\n",
    "for j in range(image.shape[1]):\n",
    "    for k in range(image.shape[2]):\n",
    "        image[:,j,k] = np.convolve(image[:,j,k],kernel,'same')\n",
    "\n"
   ]
  },
  {
   "cell_type": "code",
   "execution_count": 6,
   "id": "79f34a0a-e79f-455b-9af5-695ba2135389",
   "metadata": {},
   "outputs": [
    {
     "name": "stdout",
     "output_type": "stream",
     "text": [
      "9\n"
     ]
    }
   ],
   "source": [
    "print(tail)"
   ]
  },
  {
   "cell_type": "code",
   "execution_count": 7,
   "id": "4f1bff58-11a8-4618-9126-98e6813aa990",
   "metadata": {},
   "outputs": [
    {
     "ename": "ModuleNotFoundError",
     "evalue": "No module named 'cv2'",
     "output_type": "error",
     "traceback": [
      "\u001b[1;31m---------------------------------------------------------------------------\u001b[0m",
      "\u001b[1;31mModuleNotFoundError\u001b[0m                       Traceback (most recent call last)",
      "Cell \u001b[1;32mIn[7], line 1\u001b[0m\n\u001b[1;32m----> 1\u001b[0m \u001b[38;5;28;01mimport\u001b[39;00m \u001b[38;5;21;01mcv2\u001b[39;00m\n\u001b[0;32m      2\u001b[0m \u001b[38;5;28;01mimport\u001b[39;00m \u001b[38;5;21;01mnumpy\u001b[39;00m \u001b[38;5;28;01mas\u001b[39;00m \u001b[38;5;21;01mnp\u001b[39;00m\n\u001b[0;32m      3\u001b[0m \u001b[38;5;28;01mimport\u001b[39;00m \u001b[38;5;21;01mmatplotlib\u001b[39;00m\u001b[38;5;21;01m.\u001b[39;00m\u001b[38;5;21;01mpyplot\u001b[39;00m \u001b[38;5;28;01mas\u001b[39;00m \u001b[38;5;21;01mplt\u001b[39;00m\n",
      "\u001b[1;31mModuleNotFoundError\u001b[0m: No module named 'cv2'"
     ]
    }
   ],
   "source": [
    "import cv2\n",
    "import numpy as np\n",
    "import matplotlib.pyplot as plt\n",
    "\n",
    "kernel_size = 13\n",
    "sigma = 0.5\n",
    "kernel = cv2.getGaussianKernel(kernel_size, sigma, cv2.CV_64F)\n",
    "print(kernel)\n",
    "\n",
    "gaussian_first_deriv_x = np.zeros_like(kernel)\n",
    "assert(kernel_size % 2 == 1) # I assume you are using an odd kernel_size\n",
    "half_kernel_size = int(kernel_size / 2)\n",
    "for i in range(kernel_size):\n",
    "    x = - half_kernel_size + i\n",
    "    factor = - x/ (sigma**2)\n",
    "    gaussian_first_deriv_x[i] = kernel[i] * factor\n",
    "\n",
    "print(gaussian_first_deriv_x)\n",
    "\n",
    "plt.plot(kernel[:], 'b')\n",
    "plt.plot(gaussian_first_deriv_x[:], 'r')\n",
    "plt.show()"
   ]
  },
  {
   "cell_type": "code",
   "execution_count": null,
   "id": "a7f666b9-0cb9-48a4-8c5b-22092896b02a",
   "metadata": {},
   "outputs": [],
   "source": []
  }
 ],
 "metadata": {
  "kernelspec": {
   "display_name": "mph0030-cw",
   "language": "python",
   "name": "mph0030-cw"
  },
  "language_info": {
   "codemirror_mode": {
    "name": "ipython",
    "version": 3
   },
   "file_extension": ".py",
   "mimetype": "text/x-python",
   "name": "python",
   "nbconvert_exporter": "python",
   "pygments_lexer": "ipython3",
   "version": "3.11.5"
  }
 },
 "nbformat": 4,
 "nbformat_minor": 5
}
